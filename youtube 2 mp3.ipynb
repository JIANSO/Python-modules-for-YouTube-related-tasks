{
 "cells": [
  {
   "cell_type": "code",
   "execution_count": 18,
   "id": "3e916a2a",
   "metadata": {
    "ExecuteTime": {
     "end_time": "2022-09-06T06:30:14.756285Z",
     "start_time": "2022-09-06T06:30:07.723130Z"
    }
   },
   "outputs": [
    {
     "name": "stdout",
     "output_type": "stream",
     "text": [
      "성공\n"
     ]
    }
   ],
   "source": [
    "from moviepy.editor import * \n",
    "import pytube \n",
    "import os.path \n",
    "# 다운로드 받을 파일 경로 \n",
    "\n",
    "path = r'/home/jianso/바탕화면/folder/2022.09' \n",
    "\n",
    "def download_mp3(link): \n",
    "    \n",
    "    global path \n",
    "    yt = pytube.YouTube(link)    \n",
    "    \n",
    "    # 유튜브 영상 제목을 추출함, mp3 파일명으로 사용하기 위함     \n",
    "    file_name = yt.title \n",
    "    file_name = '나를 드려'\n",
    "    full_path = str(path+\"/\"+str(file_name)) \n",
    "    \n",
    "    # 유튜브 영상을 소리만 있는 mp4파일로 다운로드     \n",
    "    yt.streams.filter(adaptive=True, file_extension='mp4', only_audio=True).order_by( 'abr').desc().first().download(path, str(file_name)+'.mp4') \n",
    "    \n",
    "    # 파일 변환, mp4 -> mp3 \n",
    "    try: \n",
    "        os.rename(full_path + '.mp4', full_path + '.mp3') \n",
    "        print(\"성공\")         \n",
    "    except: \n",
    "        os.remove(full_path + '.mp4') \n",
    "        print(\"파일 이미 mp3파일이 있거나, 다른 오류가 발생함\") \n",
    "        # 비디오 링크 \n",
    "    \n",
    "video_link = 'https://youtu.be/d2B5xzfHN74' \n",
    "\n",
    "download_mp3(video_link)\n",
    "\n"
   ]
  },
  {
   "cell_type": "code",
   "execution_count": null,
   "id": "023aa45a",
   "metadata": {},
   "outputs": [],
   "source": []
  }
 ],
 "metadata": {
  "kernelspec": {
   "display_name": "Python 3 (ipykernel)",
   "language": "python",
   "name": "python3"
  },
  "language_info": {
   "codemirror_mode": {
    "name": "ipython",
    "version": 3
   },
   "file_extension": ".py",
   "mimetype": "text/x-python",
   "name": "python",
   "nbconvert_exporter": "python",
   "pygments_lexer": "ipython3",
   "version": "3.9.7"
  },
  "toc": {
   "base_numbering": 1,
   "nav_menu": {},
   "number_sections": true,
   "sideBar": true,
   "skip_h1_title": false,
   "title_cell": "Table of Contents",
   "title_sidebar": "Contents",
   "toc_cell": false,
   "toc_position": {},
   "toc_section_display": true,
   "toc_window_display": false
  }
 },
 "nbformat": 4,
 "nbformat_minor": 5
}
