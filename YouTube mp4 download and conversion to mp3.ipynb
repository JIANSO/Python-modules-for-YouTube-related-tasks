{
 "cells": [
  {
   "cell_type": "code",
   "execution_count": null,
   "id": "6e5f5ad1",
   "metadata": {},
   "outputs": [],
   "source": [
    "### YouTube mp4 download and conversion to mp3"
   ]
  },
  {
   "cell_type": "code",
   "execution_count": 3,
   "id": "d771d5a4",
   "metadata": {
    "ExecuteTime": {
     "end_time": "2022-10-13T08:36:16.857358Z",
     "start_time": "2022-10-13T08:36:14.754890Z"
    }
   },
   "outputs": [
    {
     "data": {
      "text/plain": [
       "'/home/jianso/문서/영화 록키 영화음악 2곡(Bill Conti - Gonna Fly)(Survivor - Eye Of The Tiger)(Rocky OST).mp4'"
      ]
     },
     "execution_count": 3,
     "metadata": {},
     "output_type": "execute_result"
    }
   ],
   "source": [
    "from pytube import YouTube\n",
    "\n",
    "DOWNLOAD_FOLDER = \"/home/jianso/문서\"\n",
    "\n",
    "url = \"https://youtu.be/B_bQ6vlG0Gg\"\n",
    "\n",
    "yt = YouTube(url)\n",
    "\n",
    "stream = yt.streams.get_highest_resolution()\n",
    "\n",
    "stream.download(DOWNLOAD_FOLDER)"
   ]
  },
  {
   "cell_type": "code",
   "execution_count": 6,
   "id": "41959389",
   "metadata": {
    "ExecuteTime": {
     "end_time": "2022-10-13T08:40:26.227396Z",
     "start_time": "2022-10-13T08:40:26.150921Z"
    }
   },
   "outputs": [
    {
     "name": "stdout",
     "output_type": "stream",
     "text": [
      "Moviepy - Running:\n",
      ">>> \"+ \" \".join(cmd)\n",
      "Moviepy - Command successful\n"
     ]
    }
   ],
   "source": [
    "from moviepy.video.io.ffmpeg_tools import ffmpeg_extract_subclip\n",
    "\n",
    "\n",
    "ffmpeg_extract_subclip(\"filename.mp4\", 0, 150, targetname=\"filename.mp4\")"
   ]
  },
  {
   "cell_type": "code",
   "execution_count": 11,
   "id": "0d0c8946",
   "metadata": {
    "ExecuteTime": {
     "end_time": "2022-10-13T08:46:21.979831Z",
     "start_time": "2022-10-13T08:46:18.222467Z"
    }
   },
   "outputs": [
    {
     "name": "stdout",
     "output_type": "stream",
     "text": [
      "MoviePy - Writing audio in RockyOST_3분.mp3\n"
     ]
    },
    {
     "name": "stderr",
     "output_type": "stream",
     "text": [
      "                                                                                "
     ]
    },
    {
     "name": "stdout",
     "output_type": "stream",
     "text": [
      "MoviePy - Done.\n"
     ]
    },
    {
     "name": "stderr",
     "output_type": "stream",
     "text": [
      "\r"
     ]
    }
   ],
   "source": [
    "# moviepy 모듈 설치\n",
    "#pip install moviepy\n",
    "\n",
    "# 모듈 로딩 후 오디오 추출\n",
    "import moviepy.editor as mp\n",
    "\n",
    "clip = mp.VideoFileClip(\"filename.mp4\")\n",
    "clip.audio.write_audiofile(\"filename.mp3\")"
   ]
  },
  {
   "cell_type": "code",
   "execution_count": 8,
   "id": "19e01117",
   "metadata": {
    "ExecuteTime": {
     "end_time": "2022-10-13T08:44:42.154978Z",
     "start_time": "2022-10-13T08:44:38.556519Z"
    }
   },
   "outputs": [
    {
     "name": "stdout",
     "output_type": "stream",
     "text": [
      "Requirement already satisfied: moviepy in /home/jianso/anaconda3/lib/python3.9/site-packages (1.0.3)\n",
      "Requirement already satisfied: tqdm<5.0,>=4.11.2 in /home/jianso/anaconda3/lib/python3.9/site-packages (from moviepy) (4.62.3)\n",
      "Requirement already satisfied: requests<3.0,>=2.8.1 in /home/jianso/anaconda3/lib/python3.9/site-packages (from moviepy) (2.26.0)\n",
      "Collecting decorator<5.0,>=4.0.2\n",
      "  Using cached decorator-4.4.2-py2.py3-none-any.whl (9.2 kB)\n",
      "Requirement already satisfied: numpy>=1.17.3 in /home/jianso/anaconda3/lib/python3.9/site-packages (from moviepy) (1.20.3)\n",
      "Requirement already satisfied: imageio<3.0,>=2.5 in /home/jianso/anaconda3/lib/python3.9/site-packages (from moviepy) (2.9.0)\n",
      "Requirement already satisfied: imageio-ffmpeg>=0.2.0 in /home/jianso/anaconda3/lib/python3.9/site-packages (from moviepy) (0.4.7)\n",
      "Requirement already satisfied: proglog<=1.0.0 in /home/jianso/anaconda3/lib/python3.9/site-packages (from moviepy) (0.1.10)\n",
      "Requirement already satisfied: pillow in /home/jianso/anaconda3/lib/python3.9/site-packages (from imageio<3.0,>=2.5->moviepy) (8.4.0)\n",
      "Requirement already satisfied: certifi>=2017.4.17 in /home/jianso/anaconda3/lib/python3.9/site-packages (from requests<3.0,>=2.8.1->moviepy) (2022.6.15)\n",
      "Requirement already satisfied: idna<4,>=2.5 in /home/jianso/anaconda3/lib/python3.9/site-packages (from requests<3.0,>=2.8.1->moviepy) (3.2)\n",
      "Requirement already satisfied: urllib3<1.27,>=1.21.1 in /home/jianso/anaconda3/lib/python3.9/site-packages (from requests<3.0,>=2.8.1->moviepy) (1.26.7)\n",
      "Requirement already satisfied: charset-normalizer~=2.0.0 in /home/jianso/anaconda3/lib/python3.9/site-packages (from requests<3.0,>=2.8.1->moviepy) (2.0.4)\n",
      "Installing collected packages: decorator\n",
      "  Attempting uninstall: decorator\n",
      "    Found existing installation: decorator 5.1.1\n",
      "    Uninstalling decorator-5.1.1:\n",
      "      Successfully uninstalled decorator-5.1.1\n",
      "Successfully installed decorator-4.4.2\n",
      "Note: you may need to restart the kernel to use updated packages.\n"
     ]
    }
   ],
   "source": [
    "pip install moviepy"
   ]
  },
  {
   "cell_type": "code",
   "execution_count": null,
   "id": "6b92c63b",
   "metadata": {},
   "outputs": [],
   "source": []
  }
 ],
 "metadata": {
  "kernelspec": {
   "display_name": "Python 3 (ipykernel)",
   "language": "python",
   "name": "python3"
  },
  "language_info": {
   "codemirror_mode": {
    "name": "ipython",
    "version": 3
   },
   "file_extension": ".py",
   "mimetype": "text/x-python",
   "name": "python",
   "nbconvert_exporter": "python",
   "pygments_lexer": "ipython3",
   "version": "3.9.7"
  },
  "toc": {
   "base_numbering": 1,
   "nav_menu": {},
   "number_sections": true,
   "sideBar": true,
   "skip_h1_title": false,
   "title_cell": "Table of Contents",
   "title_sidebar": "Contents",
   "toc_cell": false,
   "toc_position": {},
   "toc_section_display": true,
   "toc_window_display": false
  }
 },
 "nbformat": 4,
 "nbformat_minor": 5
}
